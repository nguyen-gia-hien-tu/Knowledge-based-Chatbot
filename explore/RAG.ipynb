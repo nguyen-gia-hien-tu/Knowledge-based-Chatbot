{
 "cells": [
  {
   "cell_type": "code",
   "execution_count": 1,
   "metadata": {},
   "outputs": [],
   "source": [
    "# Import modules and setup\n",
    "from langchain_core.prompts import PromptTemplate\n",
    "from langchain_core.runnables import RunnablePassthrough\n",
    "from langchain_core.output_parsers import StrOutputParser\n",
    "from langchain_community.embeddings import HuggingFaceBgeEmbeddings\n",
    "from langchain_community.document_loaders import PyPDFLoader\n",
    "from langchain_text_splitters import RecursiveCharacterTextSplitter\n",
    "from langchain_google_genai import ChatGoogleGenerativeAI\n",
    "from langchain_pinecone import PineconeVectorStore\n",
    "from pinecone import Pinecone, ServerlessSpec\n",
    "\n",
    "import firebase_admin\n",
    "from firebase_admin import credentials\n",
    "from pydantic import BaseModel, Field\n",
    "from dotenv import load_dotenv\n",
    "import os\n",
    "import time\n",
    "\n",
    "\n",
    "load_dotenv()\n",
    "\n",
    "os.environ[\"GOOGLE_APPLICATION_CREDENTIALS\"] = \"../firebase-service-account.json\"\n",
    "os.environ[\"FIREBASE_SERVICE_ACCOUNT_FILE\"] = \"../firebase-service-account.json\"\n",
    "os.environ[\"FIREBASE_STORAGE_BUCKET_NAME\"] = \"gs://sample-firebase-ai-app-7d7d8.appspot.com\""
   ]
  },
  {
   "cell_type": "code",
   "execution_count": 2,
   "metadata": {},
   "outputs": [
    {
     "data": {
      "text/plain": [
       "<firebase_admin.App at 0x1fa7bbdb430>"
      ]
     },
     "execution_count": 2,
     "metadata": {},
     "output_type": "execute_result"
    }
   ],
   "source": [
    "# Initialize Firebase connection\n",
    "cred = credentials.Certificate(os.getenv(\"FIREBASE_SERVICE_ACCOUNT_FILE\"))\n",
    "firebase_admin.initialize_app(\n",
    "    cred,\n",
    "    {\"storageBucket\": os.getenv(\"FIREBASE_STORAGE_BUCKET_NAME\")},\n",
    "    \"sample-firebase-ai-app-7d7d8\"\n",
    ")"
   ]
  },
  {
   "cell_type": "code",
   "execution_count": 3,
   "metadata": {},
   "outputs": [],
   "source": [
    "# Create an LLM\n",
    "llm = ChatGoogleGenerativeAI(\n",
    "    model=\"gemini-1.5-flash\",\n",
    "    temperature=0,\n",
    "    max_tokens=None,\n",
    "    timeout=None,\n",
    "    max_retries=2,\n",
    ")"
   ]
  },
  {
   "cell_type": "code",
   "execution_count": 4,
   "metadata": {},
   "outputs": [],
   "source": [
    "# Create an Embedding\n",
    "model_name = \"BAAI/bge-large-en-v1.5\"\n",
    "model_kwargs = {\"device\": \"cpu\"}\n",
    "encode_kwargs = {\"normalize_embeddings\": True}\n",
    "hf_embedding = HuggingFaceBgeEmbeddings(\n",
    "    model_name=model_name, model_kwargs=model_kwargs, encode_kwargs=encode_kwargs\n",
    ")"
   ]
  },
  {
   "cell_type": "code",
   "execution_count": 5,
   "metadata": {},
   "outputs": [],
   "source": [
    "# Create a Pinecone connection\n",
    "pc = Pinecone(api_key=os.getenv(\"PINECONE_API_KEY\"))\n",
    "\n",
    "\n",
    "# Create a Pinecone index\n",
    "index_name = \"rag-index\"\n",
    "existing_indexes =[index_info[\"name\"] for index_info in pc.list_indexes()]\n",
    "\n",
    "if index_name not in existing_indexes:\n",
    "    pc.create_index(\n",
    "        name=index_name,\n",
    "        dimension=1024, # The dimension of the embedding model in above cell\n",
    "        metric=\"cosine\",\n",
    "        spec=ServerlessSpec(cloud=\"aws\", region=\"us-east-1\"),\n",
    "    )\n",
    "    while not pc.describe_index(index_name).status[\"ready\"]:\n",
    "        time.sleep(1)\n",
    "\n",
    "index = pc.Index(index_name)"
   ]
  },
  {
   "cell_type": "code",
   "execution_count": 6,
   "metadata": {},
   "outputs": [],
   "source": [
    "# Create a vector store\n",
    "vector_store = PineconeVectorStore(index=index, embedding=hf_embedding)"
   ]
  },
  {
   "cell_type": "code",
   "execution_count": 7,
   "metadata": {},
   "outputs": [],
   "source": [
    "# Load documents\n",
    "loader = PyPDFLoader(\n",
    "    \"./documents/webapp_contract.pdf\",\n",
    ")\n",
    "\n",
    "documents = loader.load()"
   ]
  },
  {
   "cell_type": "code",
   "execution_count": 8,
   "metadata": {},
   "outputs": [],
   "source": [
    "# Create text splitter\n",
    "text_splitter = RecursiveCharacterTextSplitter(\n",
    "    chunk_size=800,\n",
    "    chunk_overlap=200,\n",
    ")\n",
    "\n",
    "splits = text_splitter.split_documents(documents)"
   ]
  },
  {
   "cell_type": "code",
   "execution_count": 9,
   "metadata": {},
   "outputs": [
    {
     "data": {
      "text/plain": [
       "['0a9c9f8a-c48e-414c-b1af-44aaaf92c8f6',\n",
       " '60369d49-3738-48c4-86d6-4158f409db67',\n",
       " '2c26066f-8480-4bc1-b495-1dcb93231253',\n",
       " '948bfb7c-75c5-432b-b4b8-39e76827d1d4',\n",
       " '067ebedd-3533-44e5-acce-190e6d8c8948',\n",
       " 'a249b8f8-3f59-401d-9012-a9ce1e0b5694',\n",
       " '0f510549-14be-45a3-863f-8deca8abfc68',\n",
       " '0489d0fe-a14f-4d41-a322-0cd2bfedd762']"
      ]
     },
     "execution_count": 9,
     "metadata": {},
     "output_type": "execute_result"
    }
   ],
   "source": [
    "# Delete all indexes from the vector store to start fresh\n",
    "index.delete(delete_all=True)\n",
    "\n",
    "# Add documents to the vector store\n",
    "vector_store.add_documents(splits)"
   ]
  },
  {
   "cell_type": "code",
   "execution_count": 26,
   "metadata": {},
   "outputs": [
    {
     "data": {
      "text/plain": [
       "[Document(id='2c26066f-8480-4bc1-b495-1dcb93231253', metadata={'page': 0.0, 'source': './documents/webapp_contract.pdf'}, page_content='maintenance, and training sessions for Company B’s team on how to use the developed \\nsolutions.  \\nCompany B agrees to collaborate and provide all necessary data and access required for \\nCompany A to complete the above services.  \\n2. Term of Agreement  \\nThis Agreement shall commence on June  9, 2020 (\"Effective Date\") and shall remain in effect \\nuntil June 9 , 2023, unless terminated earlier by either Party in accordance with Section 7 \\n(Termination) of this Agreement.  \\n3. Payment Terms  \\n• Total Contract Amount:  The total payment for the services outlined in this Agreement \\nshall not exceed $250,000. \\n• Payment Schedule:'),\n",
       " Document(id='0a9c9f8a-c48e-414c-b1af-44aaaf92c8f6', metadata={'page': 0.0, 'source': './documents/webapp_contract.pdf'}, page_content='AGREEMENT CONTRACT  \\n \\nThis Agreement (\"Agreement\") is entered into as of June  9, 2020 (\"Effective Date\"), by and \\nbetween:  \\n1. Tech Innovators Inc. , a corporation organized and existing under the laws of California, \\nUSA, with its principal place of business at 1234 Silicon Valley Road, San Francisco, \\nCA 94105 (\"Company A\").  \\n2. Data Solutions LLC , a corporation organized and existing under the laws of New York, \\nUSA, with its principal place of business at 5678 Madison Avenue, New York, NY 10022 (\"Company B\").  \\nBoth Company A and Company B may hereinafter be referred to individually as a “Party” and collectively as the “Parties.”  \\n1. Scope of Work  \\nCompany A agrees to provide the following services/products to Company B:'),\n",
       " Document(id='0f510549-14be-45a3-863f-8deca8abfc68', metadata={'page': 2.0, 'source': './documents/webapp_contract.pdf'}, page_content='In the event of any dispute arising from this Agreement, the Parties agree to first seek resolution \\nthrough mediation. If mediation fails, the Parties may pursue legal remedies in the courts of San Francisco County, California.  \\n10. Entire Agreement  \\nThis Agreement constitutes the entire understanding between the Parties and supersedes all prior \\nagreements, representations, or understandings, whether written or oral, related to the subject \\nmatter of this Agreement.  \\n \\n \\nIN WITNESS WHEREOF , the Parties have executed this Agreement as of the Effective Date.  \\n[Company A Name]: Tech Innovators Inc.  \\n \\nSignature: __________________________ \\nName: John Doe  \\nTitle: CEO  \\nDate: June  9, 2020 \\n \\n[Company B Name]: Data Solutions LLC'),\n",
       " Document(id='0489d0fe-a14f-4d41-a322-0cd2bfedd762', metadata={'page': 2.0, 'source': './documents/webapp_contract.pdf'}, page_content='[Company A Name]: Tech Innovators Inc.  \\n \\nSignature: __________________________ \\nName: John Doe  \\nTitle: CEO  \\nDate: June  9, 2020 \\n \\n[Company B Name]: Data Solutions LLC  \\n \\nSignature: __________________________ Name: Jane Smith  \\nTitle: COO  \\nDate: June  9, 2020')]"
      ]
     },
     "execution_count": 26,
     "metadata": {},
     "output_type": "execute_result"
    }
   ],
   "source": [
    "vector_store.similarity_search(\"effective date\")"
   ]
  },
  {
   "cell_type": "code",
   "execution_count": 10,
   "metadata": {},
   "outputs": [],
   "source": [
    "# Create a retriever\n",
    "retriever = vector_store.as_retriever(\n",
    "    search_type=\"similarity_score_threshold\",\n",
    "    search_kwargs={\"k\": 1, \"score_threshold\": 0.5},\n",
    ")"
   ]
  },
  {
   "cell_type": "code",
   "execution_count": 25,
   "metadata": {},
   "outputs": [
    {
     "data": {
      "text/plain": [
       "[Document(id='2c26066f-8480-4bc1-b495-1dcb93231253', metadata={'page': 0.0, 'source': './documents/webapp_contract.pdf'}, page_content='maintenance, and training sessions for Company B’s team on how to use the developed \\nsolutions.  \\nCompany B agrees to collaborate and provide all necessary data and access required for \\nCompany A to complete the above services.  \\n2. Term of Agreement  \\nThis Agreement shall commence on June  9, 2020 (\"Effective Date\") and shall remain in effect \\nuntil June 9 , 2023, unless terminated earlier by either Party in accordance with Section 7 \\n(Termination) of this Agreement.  \\n3. Payment Terms  \\n• Total Contract Amount:  The total payment for the services outlined in this Agreement \\nshall not exceed $250,000. \\n• Payment Schedule:')]"
      ]
     },
     "execution_count": 25,
     "metadata": {},
     "output_type": "execute_result"
    }
   ],
   "source": [
    "retriever.invoke(\"What is the effective date of the contract?\")"
   ]
  },
  {
   "cell_type": "code",
   "execution_count": 11,
   "metadata": {},
   "outputs": [],
   "source": [
    "PROMPT_TEMPLATE = \"\"\"\n",
    "You are an assistant for question-answering tasks.\n",
    "Use the following pieces of retrieved context to answer the question.\n",
    "If you don't know the answer, just say that you don't know.\n",
    "Use three sentences maximum and keep the answer concise.\n",
    "\n",
    "Context: {context}\n",
    "Question: {question}\n",
    "Answer:\n",
    "\"\"\""
   ]
  },
  {
   "cell_type": "code",
   "execution_count": 12,
   "metadata": {},
   "outputs": [],
   "source": [
    "prompt = PromptTemplate.from_template(PROMPT_TEMPLATE)"
   ]
  },
  {
   "cell_type": "code",
   "execution_count": 13,
   "metadata": {},
   "outputs": [],
   "source": [
    "chain = (\n",
    "    {\"context\": retriever, \"question\": RunnablePassthrough()}\n",
    "    | prompt\n",
    "    | llm\n",
    "    | StrOutputParser()\n",
    ")"
   ]
  },
  {
   "cell_type": "code",
   "execution_count": 27,
   "metadata": {},
   "outputs": [
    {
     "data": {
      "text/plain": [
       "langchain_core.runnables.base.RunnableSequence"
      ]
     },
     "execution_count": 27,
     "metadata": {},
     "output_type": "execute_result"
    }
   ],
   "source": [
    "type(chain)"
   ]
  },
  {
   "cell_type": "code",
   "execution_count": 14,
   "metadata": {},
   "outputs": [
    {
     "data": {
      "text/plain": [
       "\"The contract's effective date is June 9, 2020. This is stated in Section 2 of the agreement, which outlines the term of the agreement. The agreement will remain in effect until June 9, 2023, unless terminated earlier. \\n\""
      ]
     },
     "execution_count": 14,
     "metadata": {},
     "output_type": "execute_result"
    }
   ],
   "source": [
    "chain.invoke(\"What is the effective date of the contract?\")"
   ]
  },
  {
   "cell_type": "code",
   "execution_count": 15,
   "metadata": {},
   "outputs": [
    {
     "data": {
      "text/plain": [
       "'The contract is effective for three years. It commences on June 9, 2020, and remains in effect until June 9, 2023. The contract can be terminated earlier by either party according to Section 7 of the agreement. \\n'"
      ]
     },
     "execution_count": 15,
     "metadata": {},
     "output_type": "execute_result"
    }
   ],
   "source": [
    "chain.invoke(\"How long is the contract effective for?\")"
   ]
  },
  {
   "cell_type": "code",
   "execution_count": 16,
   "metadata": {},
   "outputs": [],
   "source": [
    "# Define structured output class of time\n",
    "from datetime import datetime\n",
    "\n",
    "\n",
    "class EffectiveDate(BaseModel):\n",
    "    \"\"\"The effective date in the given context\"\"\"\n",
    "    date: datetime = Field(..., description=\"The effective date in the format of YYYY-MM-DD\")"
   ]
  },
  {
   "cell_type": "code",
   "execution_count": 17,
   "metadata": {},
   "outputs": [],
   "source": [
    "# Create a Gemini Pro LLM\n",
    "llm = ChatGoogleGenerativeAI(\n",
    "    model=\"gemini-1.5-pro\",\n",
    "    temperature=0,\n",
    "    max_tokens=None,\n",
    "    timeout=None,\n",
    "    max_retries=2,\n",
    ")\n",
    "\n",
    "structured_output_llm = llm.with_structured_output(EffectiveDate)\n",
    "\n",
    "structured_output_chain = (\n",
    "    {\"context\": retriever, \"question\": RunnablePassthrough()}\n",
    "    | prompt\n",
    "    | structured_output_llm\n",
    ")"
   ]
  },
  {
   "cell_type": "code",
   "execution_count": 18,
   "metadata": {},
   "outputs": [
    {
     "name": "stdout",
     "output_type": "stream",
     "text": [
      "{'name': 'EffectiveDate', 'description': 'The effective date in the given context', 'parameters': {'type_': 6, 'properties': {'date': {'type_': 1, 'description': 'The effective date in the format of YYYY-MM-DD', 'format_': '', 'nullable': False, 'enum': [], 'max_items': '0', 'min_items': '0', 'properties': {}, 'required': []}}, 'required': ['date'], 'format_': '', 'description': '', 'nullable': False, 'enum': [], 'max_items': '0', 'min_items': '0'}}\n"
     ]
    }
   ],
   "source": [
    "structured_result: EffectiveDate = structured_output_chain.invoke(\"What is the effective date of the contract?\")"
   ]
  },
  {
   "cell_type": "code",
   "execution_count": 19,
   "metadata": {},
   "outputs": [
    {
     "data": {
      "text/plain": [
       "EffectiveDate(date=datetime.datetime(2020, 6, 9, 0, 0))"
      ]
     },
     "execution_count": 19,
     "metadata": {},
     "output_type": "execute_result"
    }
   ],
   "source": [
    "structured_result"
   ]
  },
  {
   "cell_type": "code",
   "execution_count": 20,
   "metadata": {},
   "outputs": [
    {
     "data": {
      "text/plain": [
       "'Tue, 09 Jun 2020'"
      ]
     },
     "execution_count": 20,
     "metadata": {},
     "output_type": "execute_result"
    }
   ],
   "source": [
    "structured_result.date.strftime(\"%a, %d %b %Y\")"
   ]
  },
  {
   "cell_type": "code",
   "execution_count": 21,
   "metadata": {},
   "outputs": [
    {
     "name": "stdout",
     "output_type": "stream",
     "text": [
      "{'name': 'EffectiveDate', 'description': 'The effective date in the given context', 'parameters': {'type_': 6, 'properties': {'date': {'type_': 1, 'description': 'The effective date in the format of YYYY-MM-DD', 'format_': '', 'nullable': False, 'enum': [], 'max_items': '0', 'min_items': '0', 'properties': {}, 'required': []}}, 'required': ['date'], 'format_': '', 'description': '', 'nullable': False, 'enum': [], 'max_items': '0', 'min_items': '0'}}\n"
     ]
    }
   ],
   "source": [
    "structured_end_date = structured_output_chain.invoke(\"What is the end date of the contract?\")"
   ]
  },
  {
   "cell_type": "code",
   "execution_count": 22,
   "metadata": {},
   "outputs": [
    {
     "data": {
      "text/plain": [
       "EffectiveDate(date=datetime.datetime(2023, 6, 9, 0, 0))"
      ]
     },
     "execution_count": 22,
     "metadata": {},
     "output_type": "execute_result"
    }
   ],
   "source": [
    "structured_end_date"
   ]
  },
  {
   "cell_type": "code",
   "execution_count": 23,
   "metadata": {},
   "outputs": [
    {
     "data": {
      "text/plain": [
       "'Fri, 09 Jun 2023'"
      ]
     },
     "execution_count": 23,
     "metadata": {},
     "output_type": "execute_result"
    }
   ],
   "source": [
    "structured_end_date.date.strftime(\"%a, %d %b %Y\")"
   ]
  }
 ],
 "metadata": {
  "kernelspec": {
   "display_name": ".venv",
   "language": "python",
   "name": "python3"
  },
  "language_info": {
   "codemirror_mode": {
    "name": "ipython",
    "version": 3
   },
   "file_extension": ".py",
   "mimetype": "text/x-python",
   "name": "python",
   "nbconvert_exporter": "python",
   "pygments_lexer": "ipython3",
   "version": "3.10.11"
  }
 },
 "nbformat": 4,
 "nbformat_minor": 2
}
