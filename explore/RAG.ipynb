{
 "cells": [
  {
   "cell_type": "code",
   "execution_count": 41,
   "metadata": {},
   "outputs": [],
   "source": [
    "# Import modules and setup\n",
    "from langchain_core.prompts import PromptTemplate\n",
    "from langchain_core.runnables import RunnablePassthrough\n",
    "from langchain_core.output_parsers import StrOutputParser\n",
    "from langchain_core.indexing import index, InMemoryRecordManager\n",
    "from langchain_community.embeddings import HuggingFaceBgeEmbeddings\n",
    "from langchain_community.document_loaders import PyPDFLoader\n",
    "from langchain_text_splitters import RecursiveCharacterTextSplitter\n",
    "from langchain_google_genai import ChatGoogleGenerativeAI\n",
    "from langchain_pinecone import PineconeVectorStore\n",
    "from pinecone import Pinecone, ServerlessSpec\n",
    "\n",
    "from firebase_admin import credentials\n",
    "from pprint import pp\n",
    "from pydantic import BaseModel, Field\n",
    "from dotenv import load_dotenv\n",
    "import firebase_admin\n",
    "import os\n",
    "import time\n",
    "\n",
    "\n",
    "load_dotenv()\n",
    "\n",
    "os.environ[\"GOOGLE_APPLICATION_CREDENTIALS\"] = \"../firebase-service-account.json\"\n",
    "os.environ[\"FIREBASE_SERVICE_ACCOUNT_FILE\"] = \"../firebase-service-account.json\"\n",
    "os.environ[\"FIREBASE_STORAGE_BUCKET_NAME\"] = \"gs://sample-firebase-ai-app-7d7d8.appspot.com\""
   ]
  },
  {
   "cell_type": "code",
   "execution_count": 2,
   "metadata": {},
   "outputs": [
    {
     "data": {
      "text/plain": [
       "<firebase_admin.App at 0x1f1f3a9e2c0>"
      ]
     },
     "execution_count": 2,
     "metadata": {},
     "output_type": "execute_result"
    }
   ],
   "source": [
    "# Initialize Firebase connection\n",
    "cred = credentials.Certificate(os.getenv(\"FIREBASE_SERVICE_ACCOUNT_FILE\"))\n",
    "firebase_admin.initialize_app(\n",
    "    cred,\n",
    "    {\"storageBucket\": os.getenv(\"FIREBASE_STORAGE_BUCKET_NAME\")},\n",
    "    \"sample-firebase-ai-app-7d7d8\"\n",
    ")"
   ]
  },
  {
   "cell_type": "code",
   "execution_count": 3,
   "metadata": {},
   "outputs": [],
   "source": [
    "# Create an LLM\n",
    "llm = ChatGoogleGenerativeAI(\n",
    "    model=\"gemini-1.5-flash\",\n",
    "    temperature=0,\n",
    "    max_tokens=None,\n",
    "    timeout=None,\n",
    "    max_retries=2,\n",
    ")"
   ]
  },
  {
   "cell_type": "code",
   "execution_count": 4,
   "metadata": {},
   "outputs": [],
   "source": [
    "# Create an Embedding\n",
    "model_name = \"BAAI/bge-large-en-v1.5\"\n",
    "model_kwargs = {\"device\": \"cpu\"}\n",
    "encode_kwargs = {\"normalize_embeddings\": True}\n",
    "hf_embedding = HuggingFaceBgeEmbeddings(\n",
    "    model_name=model_name, model_kwargs=model_kwargs, encode_kwargs=encode_kwargs\n",
    ")"
   ]
  },
  {
   "cell_type": "code",
   "execution_count": 19,
   "metadata": {},
   "outputs": [],
   "source": [
    "# Create a Pinecone connection\n",
    "pc = Pinecone(api_key=os.getenv(\"PINECONE_API_KEY\"))\n",
    "\n",
    "\n",
    "# Create a Pinecone index\n",
    "pinecone_index_name = \"rag-index\"\n",
    "existing_indexes =[index_info[\"name\"] for index_info in pc.list_indexes()]\n",
    "\n",
    "if pinecone_index_name not in existing_indexes:\n",
    "    pc.create_index(\n",
    "        name=pinecone_index_name,\n",
    "        dimension=1024, # The dimension of the embedding model in above cell\n",
    "        metric=\"cosine\",\n",
    "        spec=ServerlessSpec(cloud=\"aws\", region=\"us-east-1\"),\n",
    "    )\n",
    "    while not pc.describe_index(pinecone_index_name).status[\"ready\"]:\n",
    "        time.sleep(1)\n",
    "\n",
    "pinecone_index = pc.Index(pinecone_index_name)"
   ]
  },
  {
   "cell_type": "code",
   "execution_count": 14,
   "metadata": {},
   "outputs": [],
   "source": [
    "# Create a vector store\n",
    "vector_store = PineconeVectorStore(index=pinecone_index, embedding=hf_embedding)"
   ]
  },
  {
   "cell_type": "code",
   "execution_count": 15,
   "metadata": {},
   "outputs": [],
   "source": [
    "# Load documents\n",
    "loader = PyPDFLoader(\n",
    "    \"./documents/webapp_contract.pdf\",\n",
    ")\n",
    "\n",
    "documents = loader.load()"
   ]
  },
  {
   "cell_type": "code",
   "execution_count": 16,
   "metadata": {},
   "outputs": [],
   "source": [
    "# Create text splitter\n",
    "text_splitter = RecursiveCharacterTextSplitter(\n",
    "    chunk_size=800,\n",
    "    chunk_overlap=200,\n",
    ")\n",
    "\n",
    "splits = text_splitter.split_documents(documents)"
   ]
  },
  {
   "cell_type": "code",
   "execution_count": 20,
   "metadata": {},
   "outputs": [
    {
     "data": {
      "text/plain": [
       "{'num_added': 8, 'num_updated': 0, 'num_skipped': 0, 'num_deleted': 0}"
      ]
     },
     "execution_count": 20,
     "metadata": {},
     "output_type": "execute_result"
    }
   ],
   "source": [
    "# Delete all indexes from the vector store to start fresh\n",
    "# index.delete(delete_all=True)\n",
    "\n",
    "# Add documents to the vector store\n",
    "# vector_store.add_documents(splits)\n",
    "\n",
    "# Setup a record manager for indexing API to cache the metadata\n",
    "record_manager = InMemoryRecordManager(namespace=f\"pinecone/{pinecone_index_name}\")\n",
    "record_manager.create_schema()\n",
    "\n",
    "# Set up the indexing API\n",
    "index(splits, record_manager, vector_store, cleanup=\"full\", source_id_key=\"source\")"
   ]
  },
  {
   "cell_type": "code",
   "execution_count": 23,
   "metadata": {},
   "outputs": [
    {
     "data": {
      "text/plain": [
       "[Document(id='1b8c395b-310d-53fb-a2e4-0a8424df4f00', metadata={'page': 0.0, 'source': './documents/webapp_contract.pdf'}, page_content='maintenance, and training sessions for Company B’s team on how to use the developed \\nsolutions.  \\nCompany B agrees to collaborate and provide all necessary data and access required for \\nCompany A to complete the above services.  \\n2. Term of Agreement  \\nThis Agreement shall commence on June  9, 2020 (\"Effective Date\") and shall remain in effect \\nuntil June 9 , 2023, unless terminated earlier by either Party in accordance with Section 7 \\n(Termination) of this Agreement.  \\n3. Payment Terms  \\n• Total Contract Amount:  The total payment for the services outlined in this Agreement \\nshall not exceed $250,000. \\n• Payment Schedule:'),\n",
       " Document(id='89b55050-bf8a-59da-b67d-eb97620e0bc7', metadata={'page': 0.0, 'source': './documents/webapp_contract.pdf'}, page_content='AGREEMENT CONTRACT  \\n \\nThis Agreement (\"Agreement\") is entered into as of June  9, 2020 (\"Effective Date\"), by and \\nbetween:  \\n1. Tech Innovators Inc. , a corporation organized and existing under the laws of California, \\nUSA, with its principal place of business at 1234 Silicon Valley Road, San Francisco, \\nCA 94105 (\"Company A\").  \\n2. Data Solutions LLC , a corporation organized and existing under the laws of New York, \\nUSA, with its principal place of business at 5678 Madison Avenue, New York, NY 10022 (\"Company B\").  \\nBoth Company A and Company B may hereinafter be referred to individually as a “Party” and collectively as the “Parties.”  \\n1. Scope of Work  \\nCompany A agrees to provide the following services/products to Company B:'),\n",
       " Document(id='cd01c4d4-bcf6-5f1d-8a6c-d8f6aa4f7de8', metadata={'page': 2.0, 'source': './documents/webapp_contract.pdf'}, page_content='In the event of any dispute arising from this Agreement, the Parties agree to first seek resolution \\nthrough mediation. If mediation fails, the Parties may pursue legal remedies in the courts of San Francisco County, California.  \\n10. Entire Agreement  \\nThis Agreement constitutes the entire understanding between the Parties and supersedes all prior \\nagreements, representations, or understandings, whether written or oral, related to the subject \\nmatter of this Agreement.  \\n \\n \\nIN WITNESS WHEREOF , the Parties have executed this Agreement as of the Effective Date.  \\n[Company A Name]: Tech Innovators Inc.  \\n \\nSignature: __________________________ \\nName: John Doe  \\nTitle: CEO  \\nDate: June  9, 2020 \\n \\n[Company B Name]: Data Solutions LLC'),\n",
       " Document(id='14e330df-15cb-5d93-88e8-4e4f16447ed1', metadata={'page': 2.0, 'source': './documents/webapp_contract.pdf'}, page_content='[Company A Name]: Tech Innovators Inc.  \\n \\nSignature: __________________________ \\nName: John Doe  \\nTitle: CEO  \\nDate: June  9, 2020 \\n \\n[Company B Name]: Data Solutions LLC  \\n \\nSignature: __________________________ Name: Jane Smith  \\nTitle: COO  \\nDate: June  9, 2020')]"
      ]
     },
     "execution_count": 23,
     "metadata": {},
     "output_type": "execute_result"
    }
   ],
   "source": [
    "retrieved_docs = vector_store.similarity_search(\"effective date\")\n",
    "retrieved_docs"
   ]
  },
  {
   "cell_type": "code",
   "execution_count": 28,
   "metadata": {},
   "outputs": [
    {
     "name": "stdout",
     "output_type": "stream",
     "text": [
      "\n",
      "Document: 0\n",
      "\n",
      "maintenance, and training sessions for Company B’s team on how to use the developed \n",
      "solutions.  \n",
      "Company B agrees to collaborate and provide all necessary data and access required for \n",
      "Company A to complete the above services.  \n",
      "2. Term of Agreement  \n",
      "This Agreement shall commence on June  9, 2020 (\"Effective Date\") and shall remain in effect \n",
      "until June 9 , 2023, unless terminated earlier by either Party in accordance with Section 7 \n",
      "(Termination) of this Agreement.  \n",
      "3. Payment Terms  \n",
      "• Total Contract Amount:  The total payment for the services outlined in this Agreement \n",
      "shall not exceed $250,000. \n",
      "• Payment Schedule:\n",
      "\n",
      "----------------------------------------------------------------------------------------------------\n",
      "\n",
      "Document: 1\n",
      "\n",
      "AGREEMENT CONTRACT  \n",
      " \n",
      "This Agreement (\"Agreement\") is entered into as of June  9, 2020 (\"Effective Date\"), by and \n",
      "between:  \n",
      "1. Tech Innovators Inc. , a corporation organized and existing under the laws of California, \n",
      "USA, with its principal place of business at 1234 Silicon Valley Road, San Francisco, \n",
      "CA 94105 (\"Company A\").  \n",
      "2. Data Solutions LLC , a corporation organized and existing under the laws of New York, \n",
      "USA, with its principal place of business at 5678 Madison Avenue, New York, NY 10022 (\"Company B\").  \n",
      "Both Company A and Company B may hereinafter be referred to individually as a “Party” and collectively as the “Parties.”  \n",
      "1. Scope of Work  \n",
      "Company A agrees to provide the following services/products to Company B:\n",
      "\n",
      "----------------------------------------------------------------------------------------------------\n",
      "\n",
      "Document: 2\n",
      "\n",
      "In the event of any dispute arising from this Agreement, the Parties agree to first seek resolution \n",
      "through mediation. If mediation fails, the Parties may pursue legal remedies in the courts of San Francisco County, California.  \n",
      "10. Entire Agreement  \n",
      "This Agreement constitutes the entire understanding between the Parties and supersedes all prior \n",
      "agreements, representations, or understandings, whether written or oral, related to the subject \n",
      "matter of this Agreement.  \n",
      " \n",
      " \n",
      "IN WITNESS WHEREOF , the Parties have executed this Agreement as of the Effective Date.  \n",
      "[Company A Name]: Tech Innovators Inc.  \n",
      " \n",
      "Signature: __________________________ \n",
      "Name: John Doe  \n",
      "Title: CEO  \n",
      "Date: June  9, 2020 \n",
      " \n",
      "[Company B Name]: Data Solutions LLC\n",
      "\n",
      "----------------------------------------------------------------------------------------------------\n",
      "\n",
      "Document: 3\n",
      "\n",
      "[Company A Name]: Tech Innovators Inc.  \n",
      " \n",
      "Signature: __________________________ \n",
      "Name: John Doe  \n",
      "Title: CEO  \n",
      "Date: June  9, 2020 \n",
      " \n",
      "[Company B Name]: Data Solutions LLC  \n",
      " \n",
      "Signature: __________________________ Name: Jane Smith  \n",
      "Title: COO  \n",
      "Date: June  9, 2020\n",
      "\n",
      "----------------------------------------------------------------------------------------------------\n"
     ]
    },
    {
     "data": {
      "text/plain": [
       "[None, None, None, None]"
      ]
     },
     "execution_count": 28,
     "metadata": {},
     "output_type": "execute_result"
    }
   ],
   "source": [
    "[print(f\"\\nDocument: {i}\\n\\n{doc.page_content}\\n\\n\" + \"-\" * 100) for i, doc in enumerate(retrieved_docs)]"
   ]
  },
  {
   "cell_type": "code",
   "execution_count": 37,
   "metadata": {},
   "outputs": [],
   "source": [
    "# Create a retriever\n",
    "retriever = vector_store.as_retriever(\n",
    "    search_type=\"similarity_score_threshold\",\n",
    "    search_kwargs={\"k\": 5, \"score_threshold\": 0.5},\n",
    ")"
   ]
  },
  {
   "cell_type": "code",
   "execution_count": 38,
   "metadata": {},
   "outputs": [
    {
     "data": {
      "text/plain": [
       "[Document(id='1b8c395b-310d-53fb-a2e4-0a8424df4f00', metadata={'page': 0.0, 'source': './documents/webapp_contract.pdf'}, page_content='maintenance, and training sessions for Company B’s team on how to use the developed \\nsolutions.  \\nCompany B agrees to collaborate and provide all necessary data and access required for \\nCompany A to complete the above services.  \\n2. Term of Agreement  \\nThis Agreement shall commence on June  9, 2020 (\"Effective Date\") and shall remain in effect \\nuntil June 9 , 2023, unless terminated earlier by either Party in accordance with Section 7 \\n(Termination) of this Agreement.  \\n3. Payment Terms  \\n• Total Contract Amount:  The total payment for the services outlined in this Agreement \\nshall not exceed $250,000. \\n• Payment Schedule:'),\n",
       " Document(id='89b55050-bf8a-59da-b67d-eb97620e0bc7', metadata={'page': 0.0, 'source': './documents/webapp_contract.pdf'}, page_content='AGREEMENT CONTRACT  \\n \\nThis Agreement (\"Agreement\") is entered into as of June  9, 2020 (\"Effective Date\"), by and \\nbetween:  \\n1. Tech Innovators Inc. , a corporation organized and existing under the laws of California, \\nUSA, with its principal place of business at 1234 Silicon Valley Road, San Francisco, \\nCA 94105 (\"Company A\").  \\n2. Data Solutions LLC , a corporation organized and existing under the laws of New York, \\nUSA, with its principal place of business at 5678 Madison Avenue, New York, NY 10022 (\"Company B\").  \\nBoth Company A and Company B may hereinafter be referred to individually as a “Party” and collectively as the “Parties.”  \\n1. Scope of Work  \\nCompany A agrees to provide the following services/products to Company B:'),\n",
       " Document(id='cd01c4d4-bcf6-5f1d-8a6c-d8f6aa4f7de8', metadata={'page': 2.0, 'source': './documents/webapp_contract.pdf'}, page_content='In the event of any dispute arising from this Agreement, the Parties agree to first seek resolution \\nthrough mediation. If mediation fails, the Parties may pursue legal remedies in the courts of San Francisco County, California.  \\n10. Entire Agreement  \\nThis Agreement constitutes the entire understanding between the Parties and supersedes all prior \\nagreements, representations, or understandings, whether written or oral, related to the subject \\nmatter of this Agreement.  \\n \\n \\nIN WITNESS WHEREOF , the Parties have executed this Agreement as of the Effective Date.  \\n[Company A Name]: Tech Innovators Inc.  \\n \\nSignature: __________________________ \\nName: John Doe  \\nTitle: CEO  \\nDate: June  9, 2020 \\n \\n[Company B Name]: Data Solutions LLC'),\n",
       " Document(id='b4a8d64d-ad9e-56e1-8658-91c78b541e7b', metadata={'page': 1.0, 'source': './documents/webapp_contract.pdf'}, page_content='7. Termination  \\nEither Party may terminate this Agreement by providing 30 days written notice  to the other \\nParty. In the event of termination:  \\n• Company B shall pay Company A for any completed milestones as per the payment schedule.  \\n• Company A shall cease work upon receiving notice of termination and shall return any unused materials, documentation, or proprietary information to Company B. \\n8. Governing Law  \\nThis Agreement shall be governed by and construed in accordance with the laws of the State of California , without regard to its conflict of law provisions.  \\n9. Dispute Resolution'),\n",
       " Document(id='498a0304-f8f5-5ebe-bcc7-5392d6760763', metadata={'page': 1.0, 'source': './documents/webapp_contract.pdf'}, page_content='information to third parties without prior written consent from the o ther Party, except as required \\nby law. \\n5. Intellectual Property  \\nAll intellectual property developed or provided during the performance of this Agreement, \\nincluding but not limited to code, designs, and documents, shall be the sole property of Company B  upon full payment of the total contract amount.  \\n6. Liability and Indemnification  \\n• Company A  shall not be liable for any indirect, incidental, or consequential damages \\narising from the services provided under this Agreement.  \\n• Both Parties agree to indemnify and hold each other harmless from any claims, damages, or expenses arising from the performance of this Agreement, except in cases of gross negligence or willful misconduct.  \\n7. Termination')]"
      ]
     },
     "execution_count": 38,
     "metadata": {},
     "output_type": "execute_result"
    }
   ],
   "source": [
    "retrieved_docs = retriever.invoke(\"What is the effective date of the contract?\")\n",
    "retrieved_docs"
   ]
  },
  {
   "cell_type": "code",
   "execution_count": 43,
   "metadata": {},
   "outputs": [
    {
     "name": "stdout",
     "output_type": "stream",
     "text": [
      "\n",
      "Document: 0\n",
      "\n",
      "maintenance, and training sessions for Company B’s team on how to use the developed \n",
      "solutions.  \n",
      "Company B agrees to collaborate and provide all necessary data and access required for \n",
      "Company A to complete the above services.  \n",
      "2. Term of Agreement  \n",
      "This Agreement shall commence on June  9, 2020 (\"Effective Date\") and shall remain in effect \n",
      "until June 9 , 2023, unless terminated earlier by either Party in accordance with Section 7 \n",
      "(Termination) of this Agreement.  \n",
      "3. Payment Terms  \n",
      "• Total Contract Amount:  The total payment for the services outlined in this Agreement \n",
      "shall not exceed $250,000. \n",
      "• Payment Schedule:\n",
      "\n",
      "----------------------------------------------------------------------------------------------------\n",
      "\n",
      "Document: 1\n",
      "\n",
      "AGREEMENT CONTRACT  \n",
      " \n",
      "This Agreement (\"Agreement\") is entered into as of June  9, 2020 (\"Effective Date\"), by and \n",
      "between:  \n",
      "1. Tech Innovators Inc. , a corporation organized and existing under the laws of California, \n",
      "USA, with its principal place of business at 1234 Silicon Valley Road, San Francisco, \n",
      "CA 94105 (\"Company A\").  \n",
      "2. Data Solutions LLC , a corporation organized and existing under the laws of New York, \n",
      "USA, with its principal place of business at 5678 Madison Avenue, New York, NY 10022 (\"Company B\").  \n",
      "Both Company A and Company B may hereinafter be referred to individually as a “Party” and collectively as the “Parties.”  \n",
      "1. Scope of Work  \n",
      "Company A agrees to provide the following services/products to Company B:\n",
      "\n",
      "----------------------------------------------------------------------------------------------------\n",
      "\n",
      "Document: 2\n",
      "\n",
      "In the event of any dispute arising from this Agreement, the Parties agree to first seek resolution \n",
      "through mediation. If mediation fails, the Parties may pursue legal remedies in the courts of San Francisco County, California.  \n",
      "10. Entire Agreement  \n",
      "This Agreement constitutes the entire understanding between the Parties and supersedes all prior \n",
      "agreements, representations, or understandings, whether written or oral, related to the subject \n",
      "matter of this Agreement.  \n",
      " \n",
      " \n",
      "IN WITNESS WHEREOF , the Parties have executed this Agreement as of the Effective Date.  \n",
      "[Company A Name]: Tech Innovators Inc.  \n",
      " \n",
      "Signature: __________________________ \n",
      "Name: John Doe  \n",
      "Title: CEO  \n",
      "Date: June  9, 2020 \n",
      " \n",
      "[Company B Name]: Data Solutions LLC\n",
      "\n",
      "----------------------------------------------------------------------------------------------------\n",
      "\n",
      "Document: 3\n",
      "\n",
      "7. Termination  \n",
      "Either Party may terminate this Agreement by providing 30 days written notice  to the other \n",
      "Party. In the event of termination:  \n",
      "• Company B shall pay Company A for any completed milestones as per the payment schedule.  \n",
      "• Company A shall cease work upon receiving notice of termination and shall return any unused materials, documentation, or proprietary information to Company B. \n",
      "8. Governing Law  \n",
      "This Agreement shall be governed by and construed in accordance with the laws of the State of California , without regard to its conflict of law provisions.  \n",
      "9. Dispute Resolution\n",
      "\n",
      "----------------------------------------------------------------------------------------------------\n",
      "\n",
      "Document: 4\n",
      "\n",
      "information to third parties without prior written consent from the o ther Party, except as required \n",
      "by law. \n",
      "5. Intellectual Property  \n",
      "All intellectual property developed or provided during the performance of this Agreement, \n",
      "including but not limited to code, designs, and documents, shall be the sole property of Company B  upon full payment of the total contract amount.  \n",
      "6. Liability and Indemnification  \n",
      "• Company A  shall not be liable for any indirect, incidental, or consequential damages \n",
      "arising from the services provided under this Agreement.  \n",
      "• Both Parties agree to indemnify and hold each other harmless from any claims, damages, or expenses arising from the performance of this Agreement, except in cases of gross negligence or willful misconduct.  \n",
      "7. Termination\n",
      "\n",
      "----------------------------------------------------------------------------------------------------\n"
     ]
    },
    {
     "data": {
      "text/plain": [
       "[None, None, None, None, None]"
      ]
     },
     "execution_count": 43,
     "metadata": {},
     "output_type": "execute_result"
    }
   ],
   "source": [
    "[print(f\"\\nDocument: {i}\\n\\n{doc.page_content}\\n\\n\" + \"-\" * 100) for i, doc in enumerate(retrieved_docs)]"
   ]
  },
  {
   "cell_type": "code",
   "execution_count": 44,
   "metadata": {},
   "outputs": [],
   "source": [
    "PROMPT_TEMPLATE = \"\"\"\n",
    "You are an assistant for question-answering tasks.\n",
    "Use the following pieces of retrieved context to answer the question.\n",
    "If you don't know the answer, just say that you don't know.\n",
    "Use three sentences maximum and keep the answer concise.\n",
    "\n",
    "Context: {context}\n",
    "Question: {question}\n",
    "Answer:\n",
    "\"\"\""
   ]
  },
  {
   "cell_type": "code",
   "execution_count": 46,
   "metadata": {},
   "outputs": [],
   "source": [
    "prompt = PromptTemplate.from_template(PROMPT_TEMPLATE)"
   ]
  },
  {
   "cell_type": "code",
   "execution_count": 47,
   "metadata": {},
   "outputs": [],
   "source": [
    "chain = (\n",
    "    {\"context\": retriever, \"question\": RunnablePassthrough()}\n",
    "    | prompt\n",
    "    | llm\n",
    "    | StrOutputParser()\n",
    ")"
   ]
  },
  {
   "cell_type": "code",
   "execution_count": 48,
   "metadata": {},
   "outputs": [
    {
     "data": {
      "text/plain": [
       "langchain_core.runnables.base.RunnableSequence"
      ]
     },
     "execution_count": 48,
     "metadata": {},
     "output_type": "execute_result"
    }
   ],
   "source": [
    "type(chain)"
   ]
  },
  {
   "cell_type": "code",
   "execution_count": 49,
   "metadata": {},
   "outputs": [
    {
     "data": {
      "text/plain": [
       "'The effective date of the contract is June 9, 2020. This information is stated in the first paragraph of the agreement. \\n'"
      ]
     },
     "execution_count": 49,
     "metadata": {},
     "output_type": "execute_result"
    }
   ],
   "source": [
    "chain.invoke(\"What is the effective date of the contract?\")"
   ]
  },
  {
   "cell_type": "code",
   "execution_count": 50,
   "metadata": {},
   "outputs": [
    {
     "data": {
      "text/plain": [
       "'The contract is effective for three years, starting on June 9, 2020, and ending on June 9, 2023. It can be terminated earlier by either party according to Section 7 of the agreement. \\n'"
      ]
     },
     "execution_count": 50,
     "metadata": {},
     "output_type": "execute_result"
    }
   ],
   "source": [
    "chain.invoke(\"How long is the contract effective for?\")"
   ]
  },
  {
   "cell_type": "code",
   "execution_count": 51,
   "metadata": {},
   "outputs": [],
   "source": [
    "# Define structured output class of time\n",
    "from datetime import datetime\n",
    "\n",
    "\n",
    "class EffectiveDate(BaseModel):\n",
    "    \"\"\"The effective date in the given context\"\"\"\n",
    "    date: datetime = Field(..., description=\"The effective date in the format of YYYY-MM-DD\")"
   ]
  },
  {
   "cell_type": "code",
   "execution_count": 58,
   "metadata": {},
   "outputs": [],
   "source": [
    "# Create a Gemini Pro LLM\n",
    "llm = ChatGoogleGenerativeAI(\n",
    "    model=\"gemini-1.5-pro\",\n",
    "    temperature=0,\n",
    "    max_tokens=None,\n",
    "    timeout=None,\n",
    "    max_retries=2,\n",
    ")\n",
    "\n",
    "structured_output_llm = llm.with_structured_output(EffectiveDate)\n",
    "\n",
    "structured_output_chain = (\n",
    "    {\"context\": retriever, \"question\": RunnablePassthrough()}\n",
    "    | prompt\n",
    "    | structured_output_llm\n",
    ")"
   ]
  },
  {
   "cell_type": "code",
   "execution_count": 59,
   "metadata": {},
   "outputs": [
    {
     "name": "stdout",
     "output_type": "stream",
     "text": [
      "{'name': 'EffectiveDate', 'description': 'The effective date in the given context', 'parameters': {'type_': 6, 'properties': {'date': {'type_': 1, 'description': 'The effective date in the format of YYYY-MM-DD', 'format_': '', 'nullable': False, 'enum': [], 'max_items': '0', 'min_items': '0', 'properties': {}, 'required': []}}, 'required': ['date'], 'format_': '', 'description': '', 'nullable': False, 'enum': [], 'max_items': '0', 'min_items': '0'}}\n"
     ]
    }
   ],
   "source": [
    "structured_result: EffectiveDate = structured_output_chain.invoke(\"What is the effective date of the contract?\")"
   ]
  },
  {
   "cell_type": "code",
   "execution_count": 60,
   "metadata": {},
   "outputs": [
    {
     "data": {
      "text/plain": [
       "EffectiveDate(date=datetime.datetime(2020, 6, 9, 0, 0))"
      ]
     },
     "execution_count": 60,
     "metadata": {},
     "output_type": "execute_result"
    }
   ],
   "source": [
    "structured_result"
   ]
  },
  {
   "cell_type": "code",
   "execution_count": 61,
   "metadata": {},
   "outputs": [
    {
     "data": {
      "text/plain": [
       "'Tue, 09 Jun 2020'"
      ]
     },
     "execution_count": 61,
     "metadata": {},
     "output_type": "execute_result"
    }
   ],
   "source": [
    "structured_result.date.strftime(\"%a, %d %b %Y\")"
   ]
  },
  {
   "cell_type": "code",
   "execution_count": 63,
   "metadata": {},
   "outputs": [
    {
     "name": "stdout",
     "output_type": "stream",
     "text": [
      "{'name': 'EffectiveDate', 'description': 'The effective date in the given context', 'parameters': {'type_': 6, 'properties': {'date': {'type_': 1, 'description': 'The effective date in the format of YYYY-MM-DD', 'format_': '', 'nullable': False, 'enum': [], 'max_items': '0', 'min_items': '0', 'properties': {}, 'required': []}}, 'required': ['date'], 'format_': '', 'description': '', 'nullable': False, 'enum': [], 'max_items': '0', 'min_items': '0'}}\n"
     ]
    }
   ],
   "source": [
    "structured_end_date: EffectiveDate = structured_output_chain.invoke(\"What is the end date of the contract?\")"
   ]
  },
  {
   "cell_type": "code",
   "execution_count": 65,
   "metadata": {},
   "outputs": [
    {
     "data": {
      "text/plain": [
       "EffectiveDate(date=datetime.datetime(2023, 6, 9, 0, 0))"
      ]
     },
     "execution_count": 65,
     "metadata": {},
     "output_type": "execute_result"
    }
   ],
   "source": [
    "structured_end_date"
   ]
  },
  {
   "cell_type": "code",
   "execution_count": 66,
   "metadata": {},
   "outputs": [
    {
     "data": {
      "text/plain": [
       "'Fri, 09 Jun 2023'"
      ]
     },
     "execution_count": 66,
     "metadata": {},
     "output_type": "execute_result"
    }
   ],
   "source": [
    "structured_end_date.date.strftime(\"%a, %d %b %Y\")"
   ]
  }
 ],
 "metadata": {
  "kernelspec": {
   "display_name": ".venv",
   "language": "python",
   "name": "python3"
  },
  "language_info": {
   "codemirror_mode": {
    "name": "ipython",
    "version": 3
   },
   "file_extension": ".py",
   "mimetype": "text/x-python",
   "name": "python",
   "nbconvert_exporter": "python",
   "pygments_lexer": "ipython3",
   "version": "3.10.11"
  }
 },
 "nbformat": 4,
 "nbformat_minor": 2
}
